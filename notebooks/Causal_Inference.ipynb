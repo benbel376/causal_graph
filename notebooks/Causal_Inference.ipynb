{
 "cells": [
  {
   "cell_type": "markdown",
   "id": "05715a83-97c6-435e-a427-3136dafecf23",
   "metadata": {},
   "source": [
    "# Causal Inference Using Pearl's Framework"
   ]
  },
  {
   "cell_type": "markdown",
   "id": "9747502d-593e-43ce-aff3-b9a0fbbcb2d8",
   "metadata": {},
   "source": [
    "## Objectives:\n",
    "\n",
    "- Perform a causal inference task using Pearl’s framework;\n",
    "- Infer the causal graph from observational data and then validate the graph;\n",
    "- Merge machine learning with causal inference;\n"
   ]
  },
  {
   "cell_type": "markdown",
   "id": "e6cf676a-9761-458d-b168-e03356286bc5",
   "metadata": {},
   "source": [
    "## Load Data and Libraries"
   ]
  },
  {
   "cell_type": "code",
   "execution_count": 43,
   "id": "63f96c2b-6a72-4de5-bf17-438643b8ec35",
   "metadata": {},
   "outputs": [],
   "source": [
    "# Libraries\n",
    "\n",
    "import pandas as pd\n",
    "import numpy as np\n",
    "from sklearn.preprocessing import MinMaxScaler\n",
    "import matplotlib.pyplot as plt\n",
    "import seaborn as sns\n",
    "from sklearn.model_selection import train_test_split\n",
    "import causalnex\n",
    "from causalnex.structure.notears import from_pandas\n",
    "from causalnex.plots import plot_structure, NODE_STYLE, EDGE_STYLE\n",
    "import os\n",
    "import sys\n",
    "\n",
    "import warnings\n",
    "warnings.filterwarnings(\"ignore\")\n"
   ]
  },
  {
   "cell_type": "code",
   "execution_count": 3,
   "id": "61194079-a401-4f58-a85e-0e2d56cc7162",
   "metadata": {},
   "outputs": [
    {
     "data": {
      "text/html": [
       "<div>\n",
       "<style scoped>\n",
       "    .dataframe tbody tr th:only-of-type {\n",
       "        vertical-align: middle;\n",
       "    }\n",
       "\n",
       "    .dataframe tbody tr th {\n",
       "        vertical-align: top;\n",
       "    }\n",
       "\n",
       "    .dataframe thead th {\n",
       "        text-align: right;\n",
       "    }\n",
       "</style>\n",
       "<table border=\"1\" class=\"dataframe\">\n",
       "  <thead>\n",
       "    <tr style=\"text-align: right;\">\n",
       "      <th></th>\n",
       "      <th>id</th>\n",
       "      <th>diagnosis</th>\n",
       "      <th>radius_mean</th>\n",
       "      <th>texture_mean</th>\n",
       "      <th>perimeter_mean</th>\n",
       "      <th>area_mean</th>\n",
       "      <th>smoothness_mean</th>\n",
       "      <th>compactness_mean</th>\n",
       "      <th>concavity_mean</th>\n",
       "      <th>concave points_mean</th>\n",
       "      <th>...</th>\n",
       "      <th>texture_worst</th>\n",
       "      <th>perimeter_worst</th>\n",
       "      <th>area_worst</th>\n",
       "      <th>smoothness_worst</th>\n",
       "      <th>compactness_worst</th>\n",
       "      <th>concavity_worst</th>\n",
       "      <th>concave points_worst</th>\n",
       "      <th>symmetry_worst</th>\n",
       "      <th>fractal_dimension_worst</th>\n",
       "      <th>Unnamed: 32</th>\n",
       "    </tr>\n",
       "  </thead>\n",
       "  <tbody>\n",
       "    <tr>\n",
       "      <th>0</th>\n",
       "      <td>842302</td>\n",
       "      <td>M</td>\n",
       "      <td>17.99</td>\n",
       "      <td>10.38</td>\n",
       "      <td>122.80</td>\n",
       "      <td>1001.0</td>\n",
       "      <td>0.11840</td>\n",
       "      <td>0.27760</td>\n",
       "      <td>0.3001</td>\n",
       "      <td>0.14710</td>\n",
       "      <td>...</td>\n",
       "      <td>17.33</td>\n",
       "      <td>184.60</td>\n",
       "      <td>2019.0</td>\n",
       "      <td>0.1622</td>\n",
       "      <td>0.6656</td>\n",
       "      <td>0.7119</td>\n",
       "      <td>0.2654</td>\n",
       "      <td>0.4601</td>\n",
       "      <td>0.11890</td>\n",
       "      <td>NaN</td>\n",
       "    </tr>\n",
       "    <tr>\n",
       "      <th>1</th>\n",
       "      <td>842517</td>\n",
       "      <td>M</td>\n",
       "      <td>20.57</td>\n",
       "      <td>17.77</td>\n",
       "      <td>132.90</td>\n",
       "      <td>1326.0</td>\n",
       "      <td>0.08474</td>\n",
       "      <td>0.07864</td>\n",
       "      <td>0.0869</td>\n",
       "      <td>0.07017</td>\n",
       "      <td>...</td>\n",
       "      <td>23.41</td>\n",
       "      <td>158.80</td>\n",
       "      <td>1956.0</td>\n",
       "      <td>0.1238</td>\n",
       "      <td>0.1866</td>\n",
       "      <td>0.2416</td>\n",
       "      <td>0.1860</td>\n",
       "      <td>0.2750</td>\n",
       "      <td>0.08902</td>\n",
       "      <td>NaN</td>\n",
       "    </tr>\n",
       "    <tr>\n",
       "      <th>2</th>\n",
       "      <td>84300903</td>\n",
       "      <td>M</td>\n",
       "      <td>19.69</td>\n",
       "      <td>21.25</td>\n",
       "      <td>130.00</td>\n",
       "      <td>1203.0</td>\n",
       "      <td>0.10960</td>\n",
       "      <td>0.15990</td>\n",
       "      <td>0.1974</td>\n",
       "      <td>0.12790</td>\n",
       "      <td>...</td>\n",
       "      <td>25.53</td>\n",
       "      <td>152.50</td>\n",
       "      <td>1709.0</td>\n",
       "      <td>0.1444</td>\n",
       "      <td>0.4245</td>\n",
       "      <td>0.4504</td>\n",
       "      <td>0.2430</td>\n",
       "      <td>0.3613</td>\n",
       "      <td>0.08758</td>\n",
       "      <td>NaN</td>\n",
       "    </tr>\n",
       "    <tr>\n",
       "      <th>3</th>\n",
       "      <td>84348301</td>\n",
       "      <td>M</td>\n",
       "      <td>11.42</td>\n",
       "      <td>20.38</td>\n",
       "      <td>77.58</td>\n",
       "      <td>386.1</td>\n",
       "      <td>0.14250</td>\n",
       "      <td>0.28390</td>\n",
       "      <td>0.2414</td>\n",
       "      <td>0.10520</td>\n",
       "      <td>...</td>\n",
       "      <td>26.50</td>\n",
       "      <td>98.87</td>\n",
       "      <td>567.7</td>\n",
       "      <td>0.2098</td>\n",
       "      <td>0.8663</td>\n",
       "      <td>0.6869</td>\n",
       "      <td>0.2575</td>\n",
       "      <td>0.6638</td>\n",
       "      <td>0.17300</td>\n",
       "      <td>NaN</td>\n",
       "    </tr>\n",
       "    <tr>\n",
       "      <th>4</th>\n",
       "      <td>84358402</td>\n",
       "      <td>M</td>\n",
       "      <td>20.29</td>\n",
       "      <td>14.34</td>\n",
       "      <td>135.10</td>\n",
       "      <td>1297.0</td>\n",
       "      <td>0.10030</td>\n",
       "      <td>0.13280</td>\n",
       "      <td>0.1980</td>\n",
       "      <td>0.10430</td>\n",
       "      <td>...</td>\n",
       "      <td>16.67</td>\n",
       "      <td>152.20</td>\n",
       "      <td>1575.0</td>\n",
       "      <td>0.1374</td>\n",
       "      <td>0.2050</td>\n",
       "      <td>0.4000</td>\n",
       "      <td>0.1625</td>\n",
       "      <td>0.2364</td>\n",
       "      <td>0.07678</td>\n",
       "      <td>NaN</td>\n",
       "    </tr>\n",
       "  </tbody>\n",
       "</table>\n",
       "<p>5 rows × 33 columns</p>\n",
       "</div>"
      ],
      "text/plain": [
       "         id diagnosis  radius_mean  texture_mean  perimeter_mean  area_mean  \\\n",
       "0    842302         M        17.99         10.38          122.80     1001.0   \n",
       "1    842517         M        20.57         17.77          132.90     1326.0   \n",
       "2  84300903         M        19.69         21.25          130.00     1203.0   \n",
       "3  84348301         M        11.42         20.38           77.58      386.1   \n",
       "4  84358402         M        20.29         14.34          135.10     1297.0   \n",
       "\n",
       "   smoothness_mean  compactness_mean  concavity_mean  concave points_mean  \\\n",
       "0          0.11840           0.27760          0.3001              0.14710   \n",
       "1          0.08474           0.07864          0.0869              0.07017   \n",
       "2          0.10960           0.15990          0.1974              0.12790   \n",
       "3          0.14250           0.28390          0.2414              0.10520   \n",
       "4          0.10030           0.13280          0.1980              0.10430   \n",
       "\n",
       "   ...  texture_worst  perimeter_worst  area_worst  smoothness_worst  \\\n",
       "0  ...          17.33           184.60      2019.0            0.1622   \n",
       "1  ...          23.41           158.80      1956.0            0.1238   \n",
       "2  ...          25.53           152.50      1709.0            0.1444   \n",
       "3  ...          26.50            98.87       567.7            0.2098   \n",
       "4  ...          16.67           152.20      1575.0            0.1374   \n",
       "\n",
       "   compactness_worst  concavity_worst  concave points_worst  symmetry_worst  \\\n",
       "0             0.6656           0.7119                0.2654          0.4601   \n",
       "1             0.1866           0.2416                0.1860          0.2750   \n",
       "2             0.4245           0.4504                0.2430          0.3613   \n",
       "3             0.8663           0.6869                0.2575          0.6638   \n",
       "4             0.2050           0.4000                0.1625          0.2364   \n",
       "\n",
       "   fractal_dimension_worst  Unnamed: 32  \n",
       "0                  0.11890          NaN  \n",
       "1                  0.08902          NaN  \n",
       "2                  0.08758          NaN  \n",
       "3                  0.17300          NaN  \n",
       "4                  0.07678          NaN  \n",
       "\n",
       "[5 rows x 33 columns]"
      ]
     },
     "execution_count": 3,
     "metadata": {},
     "output_type": "execute_result"
    }
   ],
   "source": [
    "# Load Data\n",
    "\n",
    "raw_df = pd.read_csv(\"../data/data.csv\")\n",
    "raw_df.head()"
   ]
  },
  {
   "cell_type": "code",
   "execution_count": 4,
   "id": "cd7255ce-9c12-4dea-9b34-7540b57a9c56",
   "metadata": {},
   "outputs": [
    {
     "data": {
      "text/plain": [
       "(569, 33)"
      ]
     },
     "execution_count": 4,
     "metadata": {},
     "output_type": "execute_result"
    }
   ],
   "source": [
    "# Check Dataset\n",
    "\n",
    "raw_df.shape"
   ]
  },
  {
   "cell_type": "code",
   "execution_count": 6,
   "id": "5b1f24b5-84dd-46c1-ad9e-d7c326ffa56c",
   "metadata": {},
   "outputs": [
    {
     "name": "stdout",
     "output_type": "stream",
     "text": [
      "<class 'pandas.core.frame.DataFrame'>\n",
      "RangeIndex: 569 entries, 0 to 568\n",
      "Data columns (total 33 columns):\n",
      " #   Column                   Non-Null Count  Dtype  \n",
      "---  ------                   --------------  -----  \n",
      " 0   id                       569 non-null    int64  \n",
      " 1   diagnosis                569 non-null    object \n",
      " 2   radius_mean              569 non-null    float64\n",
      " 3   texture_mean             569 non-null    float64\n",
      " 4   perimeter_mean           569 non-null    float64\n",
      " 5   area_mean                569 non-null    float64\n",
      " 6   smoothness_mean          569 non-null    float64\n",
      " 7   compactness_mean         569 non-null    float64\n",
      " 8   concavity_mean           569 non-null    float64\n",
      " 9   concave points_mean      569 non-null    float64\n",
      " 10  symmetry_mean            569 non-null    float64\n",
      " 11  fractal_dimension_mean   569 non-null    float64\n",
      " 12  radius_se                569 non-null    float64\n",
      " 13  texture_se               569 non-null    float64\n",
      " 14  perimeter_se             569 non-null    float64\n",
      " 15  area_se                  569 non-null    float64\n",
      " 16  smoothness_se            569 non-null    float64\n",
      " 17  compactness_se           569 non-null    float64\n",
      " 18  concavity_se             569 non-null    float64\n",
      " 19  concave points_se        569 non-null    float64\n",
      " 20  symmetry_se              569 non-null    float64\n",
      " 21  fractal_dimension_se     569 non-null    float64\n",
      " 22  radius_worst             569 non-null    float64\n",
      " 23  texture_worst            569 non-null    float64\n",
      " 24  perimeter_worst          569 non-null    float64\n",
      " 25  area_worst               569 non-null    float64\n",
      " 26  smoothness_worst         569 non-null    float64\n",
      " 27  compactness_worst        569 non-null    float64\n",
      " 28  concavity_worst          569 non-null    float64\n",
      " 29  concave points_worst     569 non-null    float64\n",
      " 30  symmetry_worst           569 non-null    float64\n",
      " 31  fractal_dimension_worst  569 non-null    float64\n",
      " 32  Unnamed: 32              0 non-null      float64\n",
      "dtypes: float64(31), int64(1), object(1)\n",
      "memory usage: 146.8+ KB\n"
     ]
    }
   ],
   "source": [
    "raw_df.info()"
   ]
  },
  {
   "cell_type": "markdown",
   "id": "d411df5f-167d-4670-873b-2af9b938182d",
   "metadata": {},
   "source": [
    "### Observation\n",
    "- There are 569 rows and 33 columns\n",
    "- The last column is completely empty\n",
    "- There is no Null value in any of the other columns.\n",
    "- All the variables are float type except for the Id column and the diagnosis variable which is string."
   ]
  },
  {
   "cell_type": "markdown",
   "id": "8c9bc58c-2059-459c-abe0-759f25168bbb",
   "metadata": {},
   "source": [
    "## Clean Data"
   ]
  },
  {
   "cell_type": "code",
   "execution_count": 7,
   "id": "ccc4c37f-1371-4dce-b88c-a4daab8d4cca",
   "metadata": {},
   "outputs": [
    {
     "name": "stdout",
     "output_type": "stream",
     "text": [
      "<class 'pandas.core.frame.DataFrame'>\n",
      "RangeIndex: 569 entries, 0 to 568\n",
      "Data columns (total 32 columns):\n",
      " #   Column                   Non-Null Count  Dtype  \n",
      "---  ------                   --------------  -----  \n",
      " 0   id                       569 non-null    int64  \n",
      " 1   diagnosis                569 non-null    object \n",
      " 2   radius_mean              569 non-null    float64\n",
      " 3   texture_mean             569 non-null    float64\n",
      " 4   perimeter_mean           569 non-null    float64\n",
      " 5   area_mean                569 non-null    float64\n",
      " 6   smoothness_mean          569 non-null    float64\n",
      " 7   compactness_mean         569 non-null    float64\n",
      " 8   concavity_mean           569 non-null    float64\n",
      " 9   concave points_mean      569 non-null    float64\n",
      " 10  symmetry_mean            569 non-null    float64\n",
      " 11  fractal_dimension_mean   569 non-null    float64\n",
      " 12  radius_se                569 non-null    float64\n",
      " 13  texture_se               569 non-null    float64\n",
      " 14  perimeter_se             569 non-null    float64\n",
      " 15  area_se                  569 non-null    float64\n",
      " 16  smoothness_se            569 non-null    float64\n",
      " 17  compactness_se           569 non-null    float64\n",
      " 18  concavity_se             569 non-null    float64\n",
      " 19  concave points_se        569 non-null    float64\n",
      " 20  symmetry_se              569 non-null    float64\n",
      " 21  fractal_dimension_se     569 non-null    float64\n",
      " 22  radius_worst             569 non-null    float64\n",
      " 23  texture_worst            569 non-null    float64\n",
      " 24  perimeter_worst          569 non-null    float64\n",
      " 25  area_worst               569 non-null    float64\n",
      " 26  smoothness_worst         569 non-null    float64\n",
      " 27  compactness_worst        569 non-null    float64\n",
      " 28  concavity_worst          569 non-null    float64\n",
      " 29  concave points_worst     569 non-null    float64\n",
      " 30  symmetry_worst           569 non-null    float64\n",
      " 31  fractal_dimension_worst  569 non-null    float64\n",
      "dtypes: float64(30), int64(1), object(1)\n",
      "memory usage: 142.4+ KB\n"
     ]
    }
   ],
   "source": [
    "# removing null column\n",
    "clean_df = raw_df.iloc[:,:-1]\n",
    "clean_df.info()"
   ]
  },
  {
   "cell_type": "markdown",
   "id": "b7967d49-c32a-4f40-b2f6-b330c59ef702",
   "metadata": {},
   "source": [
    "### check for outliers"
   ]
  },
  {
   "cell_type": "code",
   "execution_count": 8,
   "id": "068216f2-0138-44d1-aa44-e373120274fb",
   "metadata": {},
   "outputs": [],
   "source": [
    "def check_outlier(df):\n",
    "    tmp_info = df.describe()\n",
    "\n",
    "    Q1 = np.array(tmp_info.iloc[4,:].values.flatten().tolist())\n",
    "    Q3 = np.array(tmp_info.iloc[6,:].values.flatten().tolist())\n",
    "\n",
    "    # calculate the Inerquartile range.\n",
    "    IQR = Q3-Q1\n",
    "    L_factor = IQR*1.5\n",
    "    H_factor = IQR*3\n",
    "\n",
    "    # Minor Outliers will lie outside the Inner fence\n",
    "    Inner_Low = Q1-L_factor\n",
    "    Inner_High = Q3 + L_factor\n",
    "    inner_fence = [Inner_Low, Inner_High]\n",
    "\n",
    "    # Major Outliers will lie outside the Outer fence\n",
    "    Outer_Low = Q1-H_factor\n",
    "    Outer_High = Q3+H_factor\n",
    "    outer_fence = [Outer_Low, Outer_High]\n",
    "    \n",
    "    outliers = []\n",
    "    for col_index in range(df.shape[1]):\n",
    "        \n",
    "        inner_count = 0\n",
    "        outer_count = 0\n",
    "        tmp_list = df.iloc[:,col_index].tolist()\n",
    "        for value in tmp_list:\n",
    "            if((value < inner_fence[0][col_index]) or (value > inner_fence[1][col_index])):\n",
    "                inner_count = inner_count + 1\n",
    "            elif((value < outer_fence[0][col_index]) or (value > outer_fence[1][col_index])):\n",
    "                outer_count = outer_count + 1\n",
    "\n",
    "        outliers.append({df.columns[col_index]:[inner_count, outer_count]})\n",
    "        \n",
    "    return outliers\n",
    "             \n"
   ]
  },
  {
   "cell_type": "code",
   "execution_count": 9,
   "id": "e6936923-f2a0-4d82-b41b-5d6298704533",
   "metadata": {},
   "outputs": [
    {
     "data": {
      "text/plain": [
       "[{'radius_mean': [14, 0]},\n",
       " {'texture_mean': [7, 0]},\n",
       " {'perimeter_mean': [13, 0]},\n",
       " {'area_mean': [25, 0]},\n",
       " {'smoothness_mean': [6, 0]},\n",
       " {'compactness_mean': [16, 0]},\n",
       " {'concavity_mean': [18, 0]},\n",
       " {'concave points_mean': [10, 0]},\n",
       " {'symmetry_mean': [15, 0]},\n",
       " {'fractal_dimension_mean': [15, 0]},\n",
       " {'radius_se': [38, 0]},\n",
       " {'texture_se': [20, 0]},\n",
       " {'perimeter_se': [38, 0]},\n",
       " {'area_se': [65, 0]},\n",
       " {'smoothness_se': [30, 0]},\n",
       " {'compactness_se': [28, 0]},\n",
       " {'concavity_se': [22, 0]},\n",
       " {'concave points_se': [19, 0]},\n",
       " {'symmetry_se': [27, 0]},\n",
       " {'fractal_dimension_se': [28, 0]},\n",
       " {'radius_worst': [17, 0]},\n",
       " {'texture_worst': [5, 0]},\n",
       " {'perimeter_worst': [15, 0]},\n",
       " {'area_worst': [35, 0]},\n",
       " {'smoothness_worst': [7, 0]},\n",
       " {'compactness_worst': [16, 0]},\n",
       " {'concavity_worst': [12, 0]},\n",
       " {'concave points_worst': [0, 0]},\n",
       " {'symmetry_worst': [23, 0]},\n",
       " {'fractal_dimension_worst': [24, 0]}]"
      ]
     },
     "execution_count": 9,
     "metadata": {},
     "output_type": "execute_result"
    }
   ],
   "source": [
    "test = check_outlier(clean_df.iloc[:,2:])\n",
    "test"
   ]
  },
  {
   "cell_type": "markdown",
   "id": "655febc7-c9ba-412e-9795-093953c26880",
   "metadata": {},
   "source": [
    "### Observation\n",
    "- There are no major outliers\n",
    "- There are some minor outliers in each row\n",
    "- There are no Null values"
   ]
  },
  {
   "cell_type": "markdown",
   "id": "ed3f0d76-1aba-4590-9f21-cd6814cef1ec",
   "metadata": {},
   "source": [
    "## Extract Features"
   ]
  },
  {
   "cell_type": "code",
   "execution_count": 10,
   "id": "05c3be1e-591f-4f45-a1bb-980f8523b5af",
   "metadata": {},
   "outputs": [
    {
     "name": "stdout",
     "output_type": "stream",
     "text": [
      "<class 'pandas.core.frame.DataFrame'>\n",
      "RangeIndex: 569 entries, 0 to 568\n",
      "Data columns (total 10 columns):\n",
      " #   Column                  Non-Null Count  Dtype  \n",
      "---  ------                  --------------  -----  \n",
      " 0   radius_mean             569 non-null    float64\n",
      " 1   texture_mean            569 non-null    float64\n",
      " 2   perimeter_mean          569 non-null    float64\n",
      " 3   area_mean               569 non-null    float64\n",
      " 4   smoothness_mean         569 non-null    float64\n",
      " 5   compactness_mean        569 non-null    float64\n",
      " 6   concavity_mean          569 non-null    float64\n",
      " 7   concave points_mean     569 non-null    float64\n",
      " 8   symmetry_mean           569 non-null    float64\n",
      " 9   fractal_dimension_mean  569 non-null    float64\n",
      "dtypes: float64(10)\n",
      "memory usage: 44.6 KB\n"
     ]
    }
   ],
   "source": [
    "# select only variables with mean values\n",
    "\n",
    "features_df = clean_df.iloc[:,2:12]\n",
    "features_df.info()"
   ]
  },
  {
   "cell_type": "code",
   "execution_count": 11,
   "id": "39cae8ce-03ae-47c1-ae16-f78c680293a8",
   "metadata": {},
   "outputs": [
    {
     "name": "stdout",
     "output_type": "stream",
     "text": [
      "1    357\n",
      "0    212\n",
      "Name: diagnosis, dtype: int64\n"
     ]
    }
   ],
   "source": [
    "# Convert target variable from String column to int\n",
    "def convert(x):\n",
    "    if(x==\"M\"):\n",
    "        return 0\n",
    "    else:\n",
    "        return 1\n",
    "    \n",
    "target = clean_df[\"diagnosis\"]\n",
    "target = target.apply(lambda x: convert(x))\n",
    "print(target.value_counts())\n"
   ]
  },
  {
   "cell_type": "code",
   "execution_count": 12,
   "id": "ac3cc4bf-2e21-46a5-ac80-ff219171715c",
   "metadata": {},
   "outputs": [
    {
     "data": {
      "text/html": [
       "<div>\n",
       "<style scoped>\n",
       "    .dataframe tbody tr th:only-of-type {\n",
       "        vertical-align: middle;\n",
       "    }\n",
       "\n",
       "    .dataframe tbody tr th {\n",
       "        vertical-align: top;\n",
       "    }\n",
       "\n",
       "    .dataframe thead th {\n",
       "        text-align: right;\n",
       "    }\n",
       "</style>\n",
       "<table border=\"1\" class=\"dataframe\">\n",
       "  <thead>\n",
       "    <tr style=\"text-align: right;\">\n",
       "      <th></th>\n",
       "      <th>radius_mean</th>\n",
       "      <th>texture_mean</th>\n",
       "      <th>perimeter_mean</th>\n",
       "      <th>area_mean</th>\n",
       "      <th>smoothness_mean</th>\n",
       "      <th>compactness_mean</th>\n",
       "      <th>concavity_mean</th>\n",
       "      <th>concave points_mean</th>\n",
       "      <th>symmetry_mean</th>\n",
       "      <th>fractal_dimension_mean</th>\n",
       "    </tr>\n",
       "  </thead>\n",
       "  <tbody>\n",
       "    <tr>\n",
       "      <th>0</th>\n",
       "      <td>17.99</td>\n",
       "      <td>10.38</td>\n",
       "      <td>0.545989</td>\n",
       "      <td>0.363733</td>\n",
       "      <td>0.593753</td>\n",
       "      <td>0.792037</td>\n",
       "      <td>0.703140</td>\n",
       "      <td>0.731113</td>\n",
       "      <td>0.686364</td>\n",
       "      <td>0.605518</td>\n",
       "    </tr>\n",
       "    <tr>\n",
       "      <th>1</th>\n",
       "      <td>20.57</td>\n",
       "      <td>17.77</td>\n",
       "      <td>0.615783</td>\n",
       "      <td>0.501591</td>\n",
       "      <td>0.289880</td>\n",
       "      <td>0.181768</td>\n",
       "      <td>0.203608</td>\n",
       "      <td>0.348757</td>\n",
       "      <td>0.379798</td>\n",
       "      <td>0.141323</td>\n",
       "    </tr>\n",
       "    <tr>\n",
       "      <th>2</th>\n",
       "      <td>19.69</td>\n",
       "      <td>21.25</td>\n",
       "      <td>0.595743</td>\n",
       "      <td>0.449417</td>\n",
       "      <td>0.514309</td>\n",
       "      <td>0.431017</td>\n",
       "      <td>0.462512</td>\n",
       "      <td>0.635686</td>\n",
       "      <td>0.509596</td>\n",
       "      <td>0.211247</td>\n",
       "    </tr>\n",
       "    <tr>\n",
       "      <th>3</th>\n",
       "      <td>11.42</td>\n",
       "      <td>20.38</td>\n",
       "      <td>0.233501</td>\n",
       "      <td>0.102906</td>\n",
       "      <td>0.811321</td>\n",
       "      <td>0.811361</td>\n",
       "      <td>0.565604</td>\n",
       "      <td>0.522863</td>\n",
       "      <td>0.776263</td>\n",
       "      <td>1.000000</td>\n",
       "    </tr>\n",
       "    <tr>\n",
       "      <th>4</th>\n",
       "      <td>20.29</td>\n",
       "      <td>14.34</td>\n",
       "      <td>0.630986</td>\n",
       "      <td>0.489290</td>\n",
       "      <td>0.430351</td>\n",
       "      <td>0.347893</td>\n",
       "      <td>0.463918</td>\n",
       "      <td>0.518390</td>\n",
       "      <td>0.378283</td>\n",
       "      <td>0.186816</td>\n",
       "    </tr>\n",
       "    <tr>\n",
       "      <th>...</th>\n",
       "      <td>...</td>\n",
       "      <td>...</td>\n",
       "      <td>...</td>\n",
       "      <td>...</td>\n",
       "      <td>...</td>\n",
       "      <td>...</td>\n",
       "      <td>...</td>\n",
       "      <td>...</td>\n",
       "      <td>...</td>\n",
       "      <td>...</td>\n",
       "    </tr>\n",
       "    <tr>\n",
       "      <th>564</th>\n",
       "      <td>21.56</td>\n",
       "      <td>22.39</td>\n",
       "      <td>0.678668</td>\n",
       "      <td>0.566490</td>\n",
       "      <td>0.526948</td>\n",
       "      <td>0.296055</td>\n",
       "      <td>0.571462</td>\n",
       "      <td>0.690358</td>\n",
       "      <td>0.336364</td>\n",
       "      <td>0.132056</td>\n",
       "    </tr>\n",
       "    <tr>\n",
       "      <th>565</th>\n",
       "      <td>20.13</td>\n",
       "      <td>28.25</td>\n",
       "      <td>0.604036</td>\n",
       "      <td>0.474019</td>\n",
       "      <td>0.407782</td>\n",
       "      <td>0.257714</td>\n",
       "      <td>0.337395</td>\n",
       "      <td>0.486630</td>\n",
       "      <td>0.349495</td>\n",
       "      <td>0.113100</td>\n",
       "    </tr>\n",
       "    <tr>\n",
       "      <th>566</th>\n",
       "      <td>16.60</td>\n",
       "      <td>28.08</td>\n",
       "      <td>0.445788</td>\n",
       "      <td>0.303118</td>\n",
       "      <td>0.288165</td>\n",
       "      <td>0.254340</td>\n",
       "      <td>0.216753</td>\n",
       "      <td>0.263519</td>\n",
       "      <td>0.267677</td>\n",
       "      <td>0.137321</td>\n",
       "    </tr>\n",
       "    <tr>\n",
       "      <th>567</th>\n",
       "      <td>20.60</td>\n",
       "      <td>29.33</td>\n",
       "      <td>0.665538</td>\n",
       "      <td>0.475716</td>\n",
       "      <td>0.588336</td>\n",
       "      <td>0.790197</td>\n",
       "      <td>0.823336</td>\n",
       "      <td>0.755467</td>\n",
       "      <td>0.675253</td>\n",
       "      <td>0.425442</td>\n",
       "    </tr>\n",
       "    <tr>\n",
       "      <th>568</th>\n",
       "      <td>7.76</td>\n",
       "      <td>24.54</td>\n",
       "      <td>0.028540</td>\n",
       "      <td>0.015907</td>\n",
       "      <td>0.000000</td>\n",
       "      <td>0.074351</td>\n",
       "      <td>0.000000</td>\n",
       "      <td>0.000000</td>\n",
       "      <td>0.266162</td>\n",
       "      <td>0.187026</td>\n",
       "    </tr>\n",
       "  </tbody>\n",
       "</table>\n",
       "<p>569 rows × 10 columns</p>\n",
       "</div>"
      ],
      "text/plain": [
       "     radius_mean  texture_mean  perimeter_mean  area_mean  smoothness_mean  \\\n",
       "0          17.99         10.38        0.545989   0.363733         0.593753   \n",
       "1          20.57         17.77        0.615783   0.501591         0.289880   \n",
       "2          19.69         21.25        0.595743   0.449417         0.514309   \n",
       "3          11.42         20.38        0.233501   0.102906         0.811321   \n",
       "4          20.29         14.34        0.630986   0.489290         0.430351   \n",
       "..           ...           ...             ...        ...              ...   \n",
       "564        21.56         22.39        0.678668   0.566490         0.526948   \n",
       "565        20.13         28.25        0.604036   0.474019         0.407782   \n",
       "566        16.60         28.08        0.445788   0.303118         0.288165   \n",
       "567        20.60         29.33        0.665538   0.475716         0.588336   \n",
       "568         7.76         24.54        0.028540   0.015907         0.000000   \n",
       "\n",
       "     compactness_mean  concavity_mean  concave points_mean  symmetry_mean  \\\n",
       "0            0.792037        0.703140             0.731113       0.686364   \n",
       "1            0.181768        0.203608             0.348757       0.379798   \n",
       "2            0.431017        0.462512             0.635686       0.509596   \n",
       "3            0.811361        0.565604             0.522863       0.776263   \n",
       "4            0.347893        0.463918             0.518390       0.378283   \n",
       "..                ...             ...                  ...            ...   \n",
       "564          0.296055        0.571462             0.690358       0.336364   \n",
       "565          0.257714        0.337395             0.486630       0.349495   \n",
       "566          0.254340        0.216753             0.263519       0.267677   \n",
       "567          0.790197        0.823336             0.755467       0.675253   \n",
       "568          0.074351        0.000000             0.000000       0.266162   \n",
       "\n",
       "     fractal_dimension_mean  \n",
       "0                  0.605518  \n",
       "1                  0.141323  \n",
       "2                  0.211247  \n",
       "3                  1.000000  \n",
       "4                  0.186816  \n",
       "..                      ...  \n",
       "564                0.132056  \n",
       "565                0.113100  \n",
       "566                0.137321  \n",
       "567                0.425442  \n",
       "568                0.187026  \n",
       "\n",
       "[569 rows x 10 columns]"
      ]
     },
     "execution_count": 12,
     "metadata": {},
     "output_type": "execute_result"
    }
   ],
   "source": [
    "# scaling variables\n",
    "\n",
    "scaler = MinMaxScaler()\n",
    "scaled_df = features_df.copy() \n",
    "scaled_df.iloc[:,2:] = scaler.fit_transform(scaled_df.iloc[:,2:])\n",
    "scaled_df\n"
   ]
  },
  {
   "cell_type": "markdown",
   "id": "e3a15630-29f5-43c8-85b1-a4a87de75c74",
   "metadata": {},
   "source": [
    "### Observation\n",
    "\n",
    "- Only variables with mean values were selected\n",
    "- using minMax scaler each of the float values were scaled"
   ]
  },
  {
   "cell_type": "markdown",
   "id": "40f554be-bab6-41b2-86b5-ad88623d0915",
   "metadata": {},
   "source": [
    "## Perform Exploratory Analysis"
   ]
  },
  {
   "cell_type": "markdown",
   "id": "91a2e15b-ce9b-4f51-a034-a162e64dd965",
   "metadata": {},
   "source": [
    "### Univariate Analysis"
   ]
  },
  {
   "cell_type": "code",
   "execution_count": 13,
   "id": "6137beaa-7352-47ae-bbeb-89c76554e0d5",
   "metadata": {},
   "outputs": [
    {
     "data": {
      "text/html": [
       "<div>\n",
       "<style scoped>\n",
       "    .dataframe tbody tr th:only-of-type {\n",
       "        vertical-align: middle;\n",
       "    }\n",
       "\n",
       "    .dataframe tbody tr th {\n",
       "        vertical-align: top;\n",
       "    }\n",
       "\n",
       "    .dataframe thead th {\n",
       "        text-align: right;\n",
       "    }\n",
       "</style>\n",
       "<table border=\"1\" class=\"dataframe\">\n",
       "  <thead>\n",
       "    <tr style=\"text-align: right;\">\n",
       "      <th></th>\n",
       "      <th>radius_mean</th>\n",
       "      <th>texture_mean</th>\n",
       "      <th>perimeter_mean</th>\n",
       "      <th>area_mean</th>\n",
       "      <th>smoothness_mean</th>\n",
       "      <th>compactness_mean</th>\n",
       "      <th>concavity_mean</th>\n",
       "      <th>concave points_mean</th>\n",
       "      <th>symmetry_mean</th>\n",
       "      <th>fractal_dimension_mean</th>\n",
       "    </tr>\n",
       "  </thead>\n",
       "  <tbody>\n",
       "    <tr>\n",
       "      <th>count</th>\n",
       "      <td>569.000000</td>\n",
       "      <td>569.000000</td>\n",
       "      <td>569.000000</td>\n",
       "      <td>569.000000</td>\n",
       "      <td>569.000000</td>\n",
       "      <td>569.000000</td>\n",
       "      <td>569.000000</td>\n",
       "      <td>569.000000</td>\n",
       "      <td>569.000000</td>\n",
       "      <td>569.000000</td>\n",
       "    </tr>\n",
       "    <tr>\n",
       "      <th>mean</th>\n",
       "      <td>14.127292</td>\n",
       "      <td>19.289649</td>\n",
       "      <td>0.332935</td>\n",
       "      <td>0.216920</td>\n",
       "      <td>0.394785</td>\n",
       "      <td>0.260601</td>\n",
       "      <td>0.208058</td>\n",
       "      <td>0.243137</td>\n",
       "      <td>0.379605</td>\n",
       "      <td>0.270379</td>\n",
       "    </tr>\n",
       "    <tr>\n",
       "      <th>std</th>\n",
       "      <td>3.524049</td>\n",
       "      <td>4.301036</td>\n",
       "      <td>0.167915</td>\n",
       "      <td>0.149274</td>\n",
       "      <td>0.126967</td>\n",
       "      <td>0.161992</td>\n",
       "      <td>0.186785</td>\n",
       "      <td>0.192857</td>\n",
       "      <td>0.138456</td>\n",
       "      <td>0.148702</td>\n",
       "    </tr>\n",
       "    <tr>\n",
       "      <th>min</th>\n",
       "      <td>6.981000</td>\n",
       "      <td>9.710000</td>\n",
       "      <td>0.000000</td>\n",
       "      <td>0.000000</td>\n",
       "      <td>0.000000</td>\n",
       "      <td>0.000000</td>\n",
       "      <td>0.000000</td>\n",
       "      <td>0.000000</td>\n",
       "      <td>0.000000</td>\n",
       "      <td>0.000000</td>\n",
       "    </tr>\n",
       "    <tr>\n",
       "      <th>25%</th>\n",
       "      <td>11.700000</td>\n",
       "      <td>16.170000</td>\n",
       "      <td>0.216847</td>\n",
       "      <td>0.117413</td>\n",
       "      <td>0.304595</td>\n",
       "      <td>0.139685</td>\n",
       "      <td>0.069260</td>\n",
       "      <td>0.100944</td>\n",
       "      <td>0.282323</td>\n",
       "      <td>0.163016</td>\n",
       "    </tr>\n",
       "    <tr>\n",
       "      <th>50%</th>\n",
       "      <td>13.370000</td>\n",
       "      <td>18.840000</td>\n",
       "      <td>0.293345</td>\n",
       "      <td>0.172895</td>\n",
       "      <td>0.390358</td>\n",
       "      <td>0.224679</td>\n",
       "      <td>0.144189</td>\n",
       "      <td>0.166501</td>\n",
       "      <td>0.369697</td>\n",
       "      <td>0.243892</td>\n",
       "    </tr>\n",
       "    <tr>\n",
       "      <th>75%</th>\n",
       "      <td>15.780000</td>\n",
       "      <td>21.800000</td>\n",
       "      <td>0.416765</td>\n",
       "      <td>0.271135</td>\n",
       "      <td>0.475490</td>\n",
       "      <td>0.340531</td>\n",
       "      <td>0.306232</td>\n",
       "      <td>0.367793</td>\n",
       "      <td>0.453030</td>\n",
       "      <td>0.340354</td>\n",
       "    </tr>\n",
       "    <tr>\n",
       "      <th>max</th>\n",
       "      <td>28.110000</td>\n",
       "      <td>39.280000</td>\n",
       "      <td>1.000000</td>\n",
       "      <td>1.000000</td>\n",
       "      <td>1.000000</td>\n",
       "      <td>1.000000</td>\n",
       "      <td>1.000000</td>\n",
       "      <td>1.000000</td>\n",
       "      <td>1.000000</td>\n",
       "      <td>1.000000</td>\n",
       "    </tr>\n",
       "  </tbody>\n",
       "</table>\n",
       "</div>"
      ],
      "text/plain": [
       "       radius_mean  texture_mean  perimeter_mean   area_mean  smoothness_mean  \\\n",
       "count   569.000000    569.000000      569.000000  569.000000       569.000000   \n",
       "mean     14.127292     19.289649        0.332935    0.216920         0.394785   \n",
       "std       3.524049      4.301036        0.167915    0.149274         0.126967   \n",
       "min       6.981000      9.710000        0.000000    0.000000         0.000000   \n",
       "25%      11.700000     16.170000        0.216847    0.117413         0.304595   \n",
       "50%      13.370000     18.840000        0.293345    0.172895         0.390358   \n",
       "75%      15.780000     21.800000        0.416765    0.271135         0.475490   \n",
       "max      28.110000     39.280000        1.000000    1.000000         1.000000   \n",
       "\n",
       "       compactness_mean  concavity_mean  concave points_mean  symmetry_mean  \\\n",
       "count        569.000000      569.000000           569.000000     569.000000   \n",
       "mean           0.260601        0.208058             0.243137       0.379605   \n",
       "std            0.161992        0.186785             0.192857       0.138456   \n",
       "min            0.000000        0.000000             0.000000       0.000000   \n",
       "25%            0.139685        0.069260             0.100944       0.282323   \n",
       "50%            0.224679        0.144189             0.166501       0.369697   \n",
       "75%            0.340531        0.306232             0.367793       0.453030   \n",
       "max            1.000000        1.000000             1.000000       1.000000   \n",
       "\n",
       "       fractal_dimension_mean  \n",
       "count              569.000000  \n",
       "mean                 0.270379  \n",
       "std                  0.148702  \n",
       "min                  0.000000  \n",
       "25%                  0.163016  \n",
       "50%                  0.243892  \n",
       "75%                  0.340354  \n",
       "max                  1.000000  "
      ]
     },
     "execution_count": 13,
     "metadata": {},
     "output_type": "execute_result"
    }
   ],
   "source": [
    "# Univariate Analysis\n",
    "scaled_df.describe()"
   ]
  },
  {
   "cell_type": "code",
   "execution_count": 14,
   "id": "db0a6ffe-723d-424d-bfcc-a6816cd4886d",
   "metadata": {},
   "outputs": [
    {
     "data": {
      "text/plain": [
       "<AxesSubplot:title={'center':'concavity_mean'}, ylabel='Frequency'>"
      ]
     },
     "execution_count": 14,
     "metadata": {},
     "output_type": "execute_result"
    },
    {
     "data": {
      "image/png": "[encoded data removed]",
      "text/plain": [
       "<Figure size 2880x1200 with 6 Axes>"
      ]
     },
     "metadata": {
      "needs_background": "light"
     },
     "output_type": "display_data"
    }
   ],
   "source": [
    "plt.figure(figsize=(36, 15), dpi=80)\n",
    "plt.subplot(2, 3, 1)\n",
    "plt.title(\"radius_mean\")\n",
    "scaled_df[\"radius_mean\"].plot.hist(bins=12, color=\"black\", alpha=0.9)\n",
    "\n",
    "#plot 2\n",
    "plt.subplot(2, 3, 2)\n",
    "plt.title(\"texture_mean\")\n",
    "scaled_df[\"texture_mean\"].plot.hist(bins=12, color=\"brown\", alpha=0.8)\n",
    "\n",
    "#plot 3\n",
    "plt.subplot(2, 3, 3)\n",
    "plt.title(\"area_mean\")\n",
    "scaled_df[\"area_mean\"].plot.hist(bins=12, color=\"purple\", alpha=0.8)\n",
    "\n",
    "#plot 4\n",
    "plt.subplot(2, 3, 4)\n",
    "plt.title(\"smoothness_mean\")\n",
    "scaled_df[\"smoothness_mean\"].plot.hist(bins=12, color=\"red\", alpha=0.8)\n",
    "\n",
    "#plot 5\n",
    "plt.subplot(2, 3, 5)\n",
    "plt.title(\"compactness_mean\")\n",
    "scaled_df[\"compactness_mean\"].plot.hist(bins=12, color=\"orange\", alpha=0.8)\n",
    "\n",
    "#plot 6\n",
    "plt.subplot(2, 3, 6)\n",
    "plt.title(\"concavity_mean\")\n",
    "scaled_df[\"concavity_mean\"].plot.hist(bins=12, alpha=0.8)"
   ]
  },
  {
   "cell_type": "markdown",
   "id": "bf579ecb-4459-4997-bfa1-33c3b0a8dcb9",
   "metadata": {},
   "source": [
    "### Bivariate Analysis"
   ]
  },
  {
   "cell_type": "code",
   "execution_count": 15,
   "id": "7f7f54d0-c2f7-4d5a-85f6-c369641c29d5",
   "metadata": {},
   "outputs": [
    {
     "data": {
      "image/png": "[encoded data removed]",
      "text/plain": [
       "<Figure size 720x504 with 2 Axes>"
      ]
     },
     "metadata": {
      "needs_background": "light"
     },
     "output_type": "display_data"
    }
   ],
   "source": [
    "# bivariate Analysis\n",
    "# correlation matrix\n",
    "corr_matrix = scaled_df.iloc[:,1:].corr()\n",
    "matrix = np.triu(corr_matrix)\n",
    "fig, ax = plt.subplots(figsize=(10, 7))\n",
    "ax = sns.heatmap(corr_matrix, annot=True, mask=matrix)"
   ]
  },
  {
   "cell_type": "markdown",
   "id": "31d42d26-9f9f-4233-bad9-3f2a0cd92d24",
   "metadata": {},
   "source": [
    "### Observation\n",
    "- The Distribution of the variables is right skewed\n",
    "- There is a large correlation between radius and concave points, concavity and conpactness\n",
    "- there is a large positive correlation between smoothness and compactness, fractal dimension."
   ]
  },
  {
   "cell_type": "markdown",
   "id": "33d58434-e1a6-480b-a5b8-30b5805b4476",
   "metadata": {},
   "source": [
    "## Discover Causal Graphs"
   ]
  },
  {
   "cell_type": "code",
   "execution_count": 17,
   "id": "ae742023-2402-42e3-ad14-210833305697",
   "metadata": {},
   "outputs": [],
   "source": [
    "# split the data \n",
    "X_train, X_test, y_train, y_test = train_test_split(features_df, target, test_size=0.3, random_state=42)\n",
    "train_df = X_train.copy()\n",
    "train_df[\"target\"] = y_train"
   ]
  },
  {
   "cell_type": "code",
   "execution_count": 29,
   "id": "9ef513ad",
   "metadata": {},
   "outputs": [
    {
     "data": {
      "text/plain": [
       "79"
      ]
     },
     "execution_count": 29,
     "metadata": {},
     "output_type": "execute_result"
    }
   ],
   "source": [
    "int(len(train_df)*0.2)"
   ]
  },
  {
   "cell_type": "code",
   "execution_count": 46,
   "id": "8d682da3",
   "metadata": {},
   "outputs": [],
   "source": [
    "factor = len(train_df)/100\n",
    "train_20 = train_df.sample(int(20*factor), random_state=11)\n",
    "train_40 = train_df.sample(int(40*factor), random_state=11)\n",
    "train_60 = train_df.sample(int(60*factor), random_state=11)\n",
    "train_80 = train_df.sample(int(80*factor), random_state=11)\n",
    "train_100 = train_df.copy()"
   ]
  },
  {
   "cell_type": "code",
   "execution_count": 41,
   "id": "166f317a",
   "metadata": {},
   "outputs": [],
   "source": [
    "def plot_graph(sm):\n",
    "  viz = plot_structure(\n",
    "      sm,\n",
    "      graph_attributes={\"scale\": \"2.0\", 'size': 2.5},\n",
    "      all_node_attributes=NODE_STYLE.WEAK,\n",
    "      all_edge_attributes=EDGE_STYLE.WEAK)\n",
    "  return Image(viz.draw(format='png'))"
   ]
  },
  {
   "cell_type": "code",
   "execution_count": 48,
   "id": "0ff0d8ec-d4da-4cf2-8778-d888bc4a5877",
   "metadata": {},
   "outputs": [],
   "source": [
    "sm20 = from_pandas(train_20, tabu_parent_nodes=[\"target\"])"
   ]
  },
  {
   "cell_type": "code",
   "execution_count": 49,
   "id": "86c9f5de",
   "metadata": {},
   "outputs": [],
   "source": [
    "sm40 = from_pandas(train_40, tabu_parent_nodes=[\"target\"])"
   ]
  },
  {
   "cell_type": "code",
   "execution_count": 50,
   "id": "3e022b9c",
   "metadata": {},
   "outputs": [],
   "source": [
    "sm60 = from_pandas(train_60, tabu_parent_nodes=[\"target\"])"
   ]
  },
  {
   "cell_type": "code",
   "execution_count": 51,
   "id": "4cc1ebc0",
   "metadata": {},
   "outputs": [],
   "source": [
    "sm80 = from_pandas(train_80, tabu_parent_nodes=[\"target\"])"
   ]
  },
  {
   "cell_type": "code",
   "execution_count": null,
   "id": "62acb911",
   "metadata": {},
   "outputs": [],
   "source": [
    "sm100 = from_pandas(train_100, tabu_parent_nodes=[\"target\"])"
   ]
  },
  {
   "cell_type": "code",
   "execution_count": null,
   "id": "b197776e",
   "metadata": {},
   "outputs": [],
   "source": []
  },
  {
   "cell_type": "markdown",
   "id": "367f845c",
   "metadata": {},
   "source": [
    "### Check Stability"
   ]
  },
  {
   "cell_type": "code",
   "execution_count": null,
   "id": "d75ca93c",
   "metadata": {},
   "outputs": [],
   "source": [
    "def jaccard_similarity(g, h):\n",
    "    i = set(g).intersection(h)\n",
    "    return round(len(i) / (len(g) + len(h) - len(i)), 3)"
   ]
  },
  {
   "cell_type": "markdown",
   "id": "c6879625-3948-43bb-a0b0-43edfab6d089",
   "metadata": {},
   "source": [
    "## Evaluate Causal Graphs and Optimize"
   ]
  },
  {
   "cell_type": "code",
   "execution_count": null,
   "id": "e3bf2950-3a7b-492b-9dfe-136cb0e5572b",
   "metadata": {},
   "outputs": [],
   "source": []
  },
  {
   "cell_type": "markdown",
   "id": "ccf828ef-6807-4f05-afd1-62d383b75a94",
   "metadata": {},
   "source": [
    "## Model"
   ]
  },
  {
   "cell_type": "code",
   "execution_count": null,
   "id": "630bfa6a-f193-448c-bb0b-e4d784b37889",
   "metadata": {},
   "outputs": [],
   "source": []
  },
  {
   "cell_type": "markdown",
   "id": "0c2d2ecd-21f1-4472-85eb-844b084f22eb",
   "metadata": {},
   "source": [
    "## Compare Models"
   ]
  },
  {
   "cell_type": "code",
   "execution_count": null,
   "id": "acfa263e-36d6-4d6d-a9fc-fb30127f4826",
   "metadata": {},
   "outputs": [],
   "source": []
  }
 ],
 "metadata": {
  "kernelspec": {
   "display_name": "Python 3.9.7 ('py38')",
   "language": "python",
   "name": "python3"
  },
  "language_info": {
   "codemirror_mode": {
    "name": "ipython",
    "version": 3
   },
   "file_extension": ".py",
   "mimetype": "text/x-python",
   "name": "python",
   "nbconvert_exporter": "python",
   "pygments_lexer": "ipython3",
   "version": "3.8.13"
  },
  "vscode": {
   "interpreter": {
    "hash": "564a3f4a47946b61fadfbd8b0dd08da8476704ebae5691312144d394d4ce94ac"
   }
  }
 },
 "nbformat": 4,
 "nbformat_minor": 5
}
