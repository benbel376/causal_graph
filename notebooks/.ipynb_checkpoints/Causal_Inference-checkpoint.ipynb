{
 "cells": [
  {
   "cell_type": "markdown",
   "id": "05715a83-97c6-435e-a427-3136dafecf23",
   "metadata": {},
   "source": [
    "# Causal Inference Using Pearl's Framework"
   ]
  },
  {
   "cell_type": "markdown",
   "id": "9747502d-593e-43ce-aff3-b9a0fbbcb2d8",
   "metadata": {},
   "source": [
    "## Objectives:\n",
    "\n",
    "- Perform a causal inference task using Pearl’s framework;\n",
    "- Infer the causal graph from observational data and then validate the graph;\n",
    "- Merge machine learning with causal inference;\n"
   ]
  },
  {
   "cell_type": "markdown",
   "id": "e6cf676a-9761-458d-b168-e03356286bc5",
   "metadata": {},
   "source": [
    "## Load Data and Libraries"
   ]
  },
  {
   "cell_type": "code",
   "execution_count": null,
   "id": "63f96c2b-6a72-4de5-bf17-438643b8ec35",
   "metadata": {},
   "outputs": [],
   "source": []
  },
  {
   "cell_type": "markdown",
   "id": "8c9bc58c-2059-459c-abe0-759f25168bbb",
   "metadata": {},
   "source": [
    "## Clean Data"
   ]
  },
  {
   "cell_type": "code",
   "execution_count": null,
   "id": "c66e6ad0-aef5-47cf-a8d5-afb392ff7f75",
   "metadata": {},
   "outputs": [],
   "source": []
  },
  {
   "cell_type": "markdown",
   "id": "ed3f0d76-1aba-4590-9f21-cd6814cef1ec",
   "metadata": {},
   "source": [
    "## Extract Features"
   ]
  },
  {
   "cell_type": "code",
   "execution_count": null,
   "id": "05c3be1e-591f-4f45-a1bb-980f8523b5af",
   "metadata": {},
   "outputs": [],
   "source": []
  },
  {
   "cell_type": "markdown",
   "id": "40f554be-bab6-41b2-86b5-ad88623d0915",
   "metadata": {},
   "source": [
    "## Perform Exploratory Analysis"
   ]
  },
  {
   "cell_type": "code",
   "execution_count": null,
   "id": "6137beaa-7352-47ae-bbeb-89c76554e0d5",
   "metadata": {},
   "outputs": [],
   "source": []
  },
  {
   "cell_type": "markdown",
   "id": "33d58434-e1a6-480b-a5b8-30b5805b4476",
   "metadata": {},
   "source": [
    "## Discover Causal Graphs"
   ]
  },
  {
   "cell_type": "code",
   "execution_count": null,
   "id": "ae742023-2402-42e3-ad14-210833305697",
   "metadata": {},
   "outputs": [],
   "source": []
  },
  {
   "cell_type": "markdown",
   "id": "c6879625-3948-43bb-a0b0-43edfab6d089",
   "metadata": {},
   "source": [
    "## Evaluate Causal Graphs and Optimize"
   ]
  },
  {
   "cell_type": "code",
   "execution_count": null,
   "id": "e3bf2950-3a7b-492b-9dfe-136cb0e5572b",
   "metadata": {},
   "outputs": [],
   "source": []
  },
  {
   "cell_type": "markdown",
   "id": "ccf828ef-6807-4f05-afd1-62d383b75a94",
   "metadata": {},
   "source": [
    "## Model"
   ]
  },
  {
   "cell_type": "code",
   "execution_count": null,
   "id": "630bfa6a-f193-448c-bb0b-e4d784b37889",
   "metadata": {},
   "outputs": [],
   "source": []
  },
  {
   "cell_type": "markdown",
   "id": "0c2d2ecd-21f1-4472-85eb-844b084f22eb",
   "metadata": {},
   "source": [
    "## Compare Models"
   ]
  },
  {
   "cell_type": "code",
   "execution_count": null,
   "id": "acfa263e-36d6-4d6d-a9fc-fb30127f4826",
   "metadata": {},
   "outputs": [],
   "source": []
  }
 ],
 "metadata": {
  "kernelspec": {
   "display_name": "Python 3 (ipykernel)",
   "language": "python",
   "name": "python3"
  },
  "language_info": {
   "codemirror_mode": {
    "name": "ipython",
    "version": 3
   },
   "file_extension": ".py",
   "mimetype": "text/x-python",
   "name": "python",
   "nbconvert_exporter": "python",
   "pygments_lexer": "ipython3",
   "version": "3.10.5"
  }
 },
 "nbformat": 4,
 "nbformat_minor": 5
}
