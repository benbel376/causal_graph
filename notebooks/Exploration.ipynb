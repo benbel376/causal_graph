{
 "cells": [
  {
   "cell_type": "markdown",
   "id": "05715a83-97c6-435e-a427-3136dafecf23",
   "metadata": {},
   "source": [
    "# Causal Inference Using Pearl's Framework"
   ]
  },
  {
   "cell_type": "markdown",
   "id": "9747502d-593e-43ce-aff3-b9a0fbbcb2d8",
   "metadata": {},
   "source": [
    "## Objectives:\n",
    "\n",
    "- Perform a causal inference task using Pearl’s framework;\n",
    "- Infer the causal graph from observational data and then validate the graph;\n",
    "- Merge machine learning with causal inference;\n"
   ]
  },
  {
   "cell_type": "markdown",
   "id": "e6cf676a-9761-458d-b168-e03356286bc5",
   "metadata": {},
   "source": [
    "## Load Data and Libraries"
   ]
  },
  {
   "cell_type": "code",
   "execution_count": null,
   "id": "63f96c2b-6a72-4de5-bf17-438643b8ec35",
   "metadata": {},
   "outputs": [],
   "source": [
    "# Libraries\n",
    "\n",
    "import pandas as pd\n",
    "import numpy as np\n",
    "from sklearn.preprocessing import Normalizer, MinMaxScaler\n",
    "import matplotlib.pyplot as plt\n",
    "import seaborn as sns\n",
    "import os\n",
    "import sys\n",
    "from IPython.display import Image\n",
    "import copy\n",
    "\n",
    "import warnings\n",
    "warnings.filterwarnings(\"ignore\")\n"
   ]
  },
  {
   "cell_type": "code",
   "execution_count": null,
   "id": "417d6e7f",
   "metadata": {},
   "outputs": [],
   "source": [
    "# add scripts\n",
    "sys.path.append(os.path.abspath(\"../scripts/\"))\n",
    "\n",
    "from utils import Utils\n",
    "Util = Utils()"
   ]
  },
  {
   "cell_type": "code",
   "execution_count": null,
   "id": "61194079-a401-4f58-a85e-0e2d56cc7162",
   "metadata": {},
   "outputs": [],
   "source": [
    "# Load Data\n",
    "\n",
    "raw_df = pd.read_csv(\"../data/data.csv\")\n",
    "raw_df.head()"
   ]
  },
  {
   "cell_type": "code",
   "execution_count": null,
   "id": "cd7255ce-9c12-4dea-9b34-7540b57a9c56",
   "metadata": {},
   "outputs": [],
   "source": [
    "# Check Dataset\n",
    "\n",
    "raw_df.shape"
   ]
  },
  {
   "cell_type": "code",
   "execution_count": null,
   "id": "5b1f24b5-84dd-46c1-ad9e-d7c326ffa56c",
   "metadata": {},
   "outputs": [],
   "source": [
    "raw_df.info()"
   ]
  },
  {
   "cell_type": "markdown",
   "id": "d411df5f-167d-4670-873b-2af9b938182d",
   "metadata": {},
   "source": [
    "### Observation\n",
    "- There are 569 rows and 33 columns\n",
    "- The last column is completely empty\n",
    "- There is no Null value in any of the other columns.\n",
    "- All the variables are float type except for the Id column and the diagnosis variable which is string."
   ]
  },
  {
   "cell_type": "markdown",
   "id": "8c9bc58c-2059-459c-abe0-759f25168bbb",
   "metadata": {},
   "source": [
    "## Clean Data"
   ]
  },
  {
   "cell_type": "code",
   "execution_count": null,
   "id": "ccc4c37f-1371-4dce-b88c-a4daab8d4cca",
   "metadata": {},
   "outputs": [],
   "source": [
    "# removing null column and id\n",
    "clean_df = raw_df.iloc[:,1:-1]\n",
    "clean_df.info()"
   ]
  },
  {
   "cell_type": "markdown",
   "id": "b7967d49-c32a-4f40-b2f6-b330c59ef702",
   "metadata": {},
   "source": [
    "### check for outliers"
   ]
  },
  {
   "cell_type": "code",
   "execution_count": null,
   "id": "e6936923-f2a0-4d82-b41b-5d6298704533",
   "metadata": {},
   "outputs": [],
   "source": [
    "test = Util.check_outlier(clean_df.iloc[:,1:])\n",
    "test"
   ]
  },
  {
   "cell_type": "markdown",
   "id": "655febc7-c9ba-412e-9795-093953c26880",
   "metadata": {},
   "source": [
    "### Observation\n",
    "- There are no major outliers\n",
    "- There are some minor outliers in each row\n",
    "- There are no Null values"
   ]
  },
  {
   "cell_type": "markdown",
   "id": "40f554be-bab6-41b2-86b5-ad88623d0915",
   "metadata": {},
   "source": [
    "## Perform Exploratory Analysis"
   ]
  },
  {
   "cell_type": "markdown",
   "id": "91a2e15b-ce9b-4f51-a034-a162e64dd965",
   "metadata": {},
   "source": [
    "### Univariate Analysis"
   ]
  },
  {
   "cell_type": "code",
   "execution_count": null,
   "id": "6137beaa-7352-47ae-bbeb-89c76554e0d5",
   "metadata": {},
   "outputs": [],
   "source": [
    "# Univariate Analysis\n",
    "Util.describe(clean_df)"
   ]
  },
  {
   "cell_type": "code",
   "execution_count": null,
   "id": "07deb2c6",
   "metadata": {},
   "outputs": [],
   "source": [
    "# check the target variable\n",
    "target = clean_df[\"diagnosis\"]\n",
    "ax = sns.countplot(target,label=\"Count\")       # M = 212, B = 357\n",
    "B, M = target.value_counts()\n",
    "print('Number of Benign: ',B)\n",
    "print('Number of Malignant : ',M)"
   ]
  },
  {
   "cell_type": "markdown",
   "id": "e017b399",
   "metadata": {},
   "source": [
    "### Observation\n",
    "- Important summary statistics of all the numerical variables like the mean, std, min, 25%, 50%, 75%, and max values.\n",
    "- There is high variation in values in area_mean and area_worst.\n",
    "- There are many variables have median value 0.\n",
    "- The area_worst feature’s max value is 4254 and fractal_dimension_se features’ max 0.029840. This indicates we need to standardize or normalize data before visualization, feature selection, and classification.\n",
    "- Bar plot of diagnosis shows that Malignant and Benign patients ratio is 37% (212/569) and 63% (357/569) respectively."
   ]
  },
  {
   "cell_type": "code",
   "execution_count": null,
   "id": "8bf051a1",
   "metadata": {},
   "outputs": [],
   "source": [
    "def normalize(df):\n",
    "  normald = Normalizer()\n",
    "  normal = pd.DataFrame(normald.fit_transform(df))\n",
    "  return normal\n",
    "\n",
    "def scale(df):\n",
    "  scaler = MinMaxScaler()\n",
    "  scaled = pd.DataFrame(scaler.fit_transform(df))\n",
    "  return scaled\n",
    "\n",
    "def scale_and_normalize(df):\n",
    "  columns = df.columns.to_list()\n",
    "  normScaled = normalize(scale(df))\n",
    "  normScaled.columns = columns\n",
    "  return normScaled"
   ]
  },
  {
   "cell_type": "code",
   "execution_count": null,
   "id": "db0a6ffe-723d-424d-bfcc-a6816cd4886d",
   "metadata": {},
   "outputs": [],
   "source": [
    "clean_df.iloc[:,1:] = scale_and_normalize(clean_df.iloc[:,1:]) \n",
    "data = pd.concat([clean_df.iloc[:,:]],axis=1)\n",
    "data = pd.melt(data,id_vars=\"diagnosis\",\n",
    "                    var_name=\"features\",\n",
    "                    value_name='value')\n",
    "plt.figure(figsize=(18,10))\n",
    "sns.violinplot(x=\"features\", y=\"value\", hue=\"diagnosis\", data=data,split=True, inner=\"quart\",palette =\"Set2\")\n",
    "plt.xticks(rotation=90)"
   ]
  },
  {
   "cell_type": "markdown",
   "id": "060e532d",
   "metadata": {},
   "source": [
    "### Observation\n",
    "- Some variables can be used to classify diagnosis clearly becuase their distributions for Benign and Malignant cancer is\n",
    "  clearly separated"
   ]
  },
  {
   "cell_type": "markdown",
   "id": "bf579ecb-4459-4997-bfa1-33c3b0a8dcb9",
   "metadata": {},
   "source": [
    "### Bivariate Analysis"
   ]
  },
  {
   "cell_type": "code",
   "execution_count": null,
   "id": "c1988048",
   "metadata": {},
   "outputs": [],
   "source": [
    "# Next six features\n",
    "def corr(x, y, **kwargs):\n",
    "    \n",
    "    # Calculate the value\n",
    "    coef = np.corrcoef(x, y)[0][1]\n",
    "    # Make the label\n",
    "    label = r'$\\rho$ = ' + str(round(coef, 2))\n",
    "    \n",
    "    # Add the label to the plot\n",
    "    ax = plt.gca()\n",
    "    ax.annotate(label, xy = (0.2, 0.95), size = 11, xycoords = ax.transAxes)\n",
    "    \n",
    "def plot_pair(df, range, size):\n",
    "    target = df[\"diagnosis\"]\n",
    "    data = df.iloc[:,1:]\n",
    "    data = pd.concat([target,data.iloc[:,range[0]:range[1]]],axis=1)\n",
    "    plt.figure(figsize=(size[0],size[1]))\n",
    "    grid=sns.pairplot(data=data,kind =\"scatter\",hue=\"diagnosis\",palette=\"Set1\")\n",
    "    grid = grid.map_upper(corr)"
   ]
  },
  {
   "cell_type": "code",
   "execution_count": null,
   "id": "27674319",
   "metadata": {},
   "outputs": [],
   "source": [
    "plot_pair(clean_df, [0,8], [16,17])"
   ]
  },
  {
   "cell_type": "code",
   "execution_count": null,
   "id": "c05c1584",
   "metadata": {},
   "outputs": [],
   "source": [
    "plot_pair(clean_df, [8,15], [16,17])"
   ]
  },
  {
   "cell_type": "code",
   "execution_count": null,
   "id": "7f7f54d0-c2f7-4d5a-85f6-c369641c29d5",
   "metadata": {},
   "outputs": [],
   "source": [
    "# bivariate Analysis\n",
    "# correlation matrix\n",
    "corr_matrix = clean_df.iloc[:,:].corr()\n",
    "matrix = np.triu(corr_matrix)\n",
    "fig, ax = plt.subplots(figsize=(17, 10))\n",
    "ax = sns.heatmap(corr_matrix, annot=True, mask=matrix)"
   ]
  },
  {
   "cell_type": "markdown",
   "id": "31d42d26-9f9f-4233-bad9-3f2a0cd92d24",
   "metadata": {},
   "source": [
    "### Observation\n",
    "- The Distribution of the variables is right skewed\n",
    "- There is a large correlation between radius and concave points, concavity and conpactness\n",
    "- there is a large positive correlation between smoothness and compactness, fractal dimension."
   ]
  }
 ],
 "metadata": {
  "kernelspec": {
   "display_name": "Python 3.9.7 ('py38')",
   "language": "python",
   "name": "python3"
  },
  "language_info": {
   "codemirror_mode": {
    "name": "ipython",
    "version": 3
   },
   "file_extension": ".py",
   "mimetype": "text/x-python",
   "name": "python",
   "nbconvert_exporter": "python",
   "pygments_lexer": "ipython3",
   "version": "3.8.13"
  },
  "vscode": {
   "interpreter": {
    "hash": "564a3f4a47946b61fadfbd8b0dd08da8476704ebae5691312144d394d4ce94ac"
   }
  }
 },
 "nbformat": 4,
 "nbformat_minor": 5
}
